{
 "cells": [
  {
   "cell_type": "code",
   "execution_count": 1,
   "metadata": {},
   "outputs": [
    {
     "name": "stderr",
     "output_type": "stream",
     "text": [
      "/Users/hyunsukim/Documents/GitHub/Paper-Study/Implicit_Neural_Representations/SIREN/siren/training.py:7: TqdmWarning: IProgress not found. Please update jupyter and ipywidgets. See https://ipywidgets.readthedocs.io/en/stable/user_install.html\n",
      "  from tqdm.autonotebook import tqdm\n"
     ]
    }
   ],
   "source": [
    "# Enable import from parent package\n",
    "import sys\n",
    "import os\n",
    "\n",
    "sys.path.append(\"/Users/hyunsukim/Documents/GitHub/Paper-Study/Implicit_Neural_Representations/SIREN/siren\")\n",
    "\n",
    "from siren import dataio, meta_modules, utils, training, loss_functions, modules\n",
    "\n",
    "from torch.utils.data import DataLoader\n",
    "import configargparse\n",
    "from functools import partial\n",
    "import skvideo.datasets\n",
    "from siren import dataio\n",
    "import skvideo.datasets"
   ]
  },
  {
   "cell_type": "code",
   "execution_count": 2,
   "metadata": {},
   "outputs": [],
   "source": [
    "vid_dataset = dataio.Video(skvideo.datasets.bikes())\n",
    "coord_dataset = dataio.Implicit3DWrapper(vid_dataset, sidelength=vid_dataset.shape, sample_fraction=38e-4)\n",
    "dataloader = DataLoader(coord_dataset, shuffle=True, batch_size=32, pin_memory=True, num_workers=0)"
   ]
  },
  {
   "cell_type": "code",
   "execution_count": 3,
   "metadata": {},
   "outputs": [
    {
     "name": "stdout",
     "output_type": "stream",
     "text": [
      "SingleBVPNet(\n",
      "  (image_downsampling): ImageDownsampling()\n",
      "  (net): FCBlock(\n",
      "    (net): MetaSequential(\n",
      "      (0): MetaSequential(\n",
      "        (0): BatchLinear(in_features=3, out_features=1024, bias=True)\n",
      "        (1): Sine()\n",
      "      )\n",
      "      (1): MetaSequential(\n",
      "        (0): BatchLinear(in_features=1024, out_features=1024, bias=True)\n",
      "        (1): Sine()\n",
      "      )\n",
      "      (2): MetaSequential(\n",
      "        (0): BatchLinear(in_features=1024, out_features=1024, bias=True)\n",
      "        (1): Sine()\n",
      "      )\n",
      "      (3): MetaSequential(\n",
      "        (0): BatchLinear(in_features=1024, out_features=1024, bias=True)\n",
      "        (1): Sine()\n",
      "      )\n",
      "      (4): MetaSequential(\n",
      "        (0): BatchLinear(in_features=1024, out_features=3, bias=True)\n",
      "      )\n",
      "    )\n",
      "  )\n",
      ")\n"
     ]
    }
   ],
   "source": [
    "model = modules.SingleBVPNet(type='sine', in_features=3, out_features=vid_dataset.channels,\n",
    "                             mode = \"mlp\", hidden_features=1024, num_hidden_layers=3)"
   ]
  },
  {
   "cell_type": "code",
   "execution_count": null,
   "metadata": {},
   "outputs": [],
   "source": [
    "loss_fn = partial(loss_functions.image_mse, None)\n",
    "summary_fn = partial(utils.write_video_summary, vid_dataset)\n",
    "\n",
    "\n",
    "# training.train(model=model, train_dataloader=dataloader, epochs=20, lr=1e-4, steps_til_summary=100,\n",
    "#                epochs_til_checkpoint=10, model_dir=\"test/testd\", loss_fn=loss_fn, summary_fn=summary_fn)"
   ]
  },
  {
   "cell_type": "code",
   "execution_count": 4,
   "metadata": {},
   "outputs": [],
   "source": [
    "batch = next(iter(dataloader))"
   ]
  },
  {
   "cell_type": "code",
   "execution_count": 8,
   "metadata": {},
   "outputs": [
    {
     "data": {
      "text/plain": [
       "(torch.Size([1, 165376, 3]), torch.Size([1, 165376, 3]))"
      ]
     },
     "execution_count": 8,
     "metadata": {},
     "output_type": "execute_result"
    }
   ],
   "source": [
    "out = model(batch[0])\n",
    "out['model_in'].shape, out['model_out'].shape"
   ]
  },
  {
   "cell_type": "markdown",
   "metadata": {},
   "source": [
    "DF"
   ]
  },
  {
   "cell_type": "markdown",
   "metadata": {},
   "source": []
  }
 ],
 "metadata": {
  "kernelspec": {
   "display_name": "mae",
   "language": "python",
   "name": "python3"
  },
  "language_info": {
   "codemirror_mode": {
    "name": "ipython",
    "version": 3
   },
   "file_extension": ".py",
   "mimetype": "text/x-python",
   "name": "python",
   "nbconvert_exporter": "python",
   "pygments_lexer": "ipython3",
   "version": "3.9.19"
  }
 },
 "nbformat": 4,
 "nbformat_minor": 2
}
