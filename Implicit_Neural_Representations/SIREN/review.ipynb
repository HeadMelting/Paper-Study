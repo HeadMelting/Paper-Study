{
 "cells": [
  {
   "cell_type": "code",
   "execution_count": 1,
   "metadata": {},
   "outputs": [
    {
     "name": "stderr",
     "output_type": "stream",
     "text": [
      "/Users/hyunsukim/Documents/GitHub/Paper-Study/Implicit_Neural_Representations/SIREN/siren/training.py:7: TqdmWarning: IProgress not found. Please update jupyter and ipywidgets. See https://ipywidgets.readthedocs.io/en/stable/user_install.html\n",
      "  from tqdm.autonotebook import tqdm\n"
     ]
    }
   ],
   "source": [
    "# Enable import from parent package\n",
    "import sys\n",
    "import os\n",
    "\n",
    "sys.path.append(\"/Users/hyunsukim/Documents/GitHub/Paper-Study/Implicit_Neural_Representations/SIREN/siren\")\n",
    "\n",
    "from siren import dataio, meta_modules, utils, training, loss_functions, modules\n",
    "\n",
    "from torch.utils.data import DataLoader\n",
    "import configargparse\n",
    "from functools import partial\n",
    "import skvideo.datasets\n",
    "from siren import dataio\n",
    "import skvideo.datasets"
   ]
  },
  {
   "cell_type": "code",
   "execution_count": 2,
   "metadata": {},
   "outputs": [],
   "source": [
    "vid_dataset = dataio.Video(skvideo.datasets.bikes())\n",
    "coord_dataset = dataio.Implicit3DWrapper(vid_dataset, sidelength=vid_dataset.shape, sample_fraction=38e-4)\n",
    "dataloader = DataLoader(coord_dataset, shuffle=True, batch_size=32, pin_memory=True, num_workers=0)\n",
    "\n"
   ]
  },
  {
   "cell_type": "code",
   "execution_count": 5,
   "metadata": {},
   "outputs": [
    {
     "data": {
      "text/plain": [
       "(165376, torch.Size([43520000, 3]))"
      ]
     },
     "execution_count": 5,
     "metadata": {},
     "output_type": "execute_result"
    }
   ],
   "source": [
    "coord_dataset.N_samples, coord_dataset.mgrid.shape"
   ]
  },
  {
   "cell_type": "code",
   "execution_count": null,
   "metadata": {},
   "outputs": [],
   "source": [
    "coords, img = batch[0]['coords'], batch[1]['img']\n",
    "coords.shape, img.shape"
   ]
  },
  {
   "cell_type": "code",
   "execution_count": null,
   "metadata": {},
   "outputs": [],
   "source": [
    "vid_dataset[1].shape"
   ]
  },
  {
   "cell_type": "code",
   "execution_count": null,
   "metadata": {},
   "outputs": [],
   "source": [
    "165376 / 640 / 272"
   ]
  },
  {
   "cell_type": "code",
   "execution_count": null,
   "metadata": {},
   "outputs": [],
   "source": [
    "3 * (3,)"
   ]
  },
  {
   "cell_type": "code",
   "execution_count": 6,
   "metadata": {},
   "outputs": [],
   "source": [
    "import torch \n",
    "import numpy as np\n",
    "def get_mgrid(sidelen, dim=2):\n",
    "    '''Generates a flattened grid of (x,y,...) coordinates in a range of -1 to 1.'''\n",
    "    if isinstance(sidelen, int):\n",
    "        sidelen = dim * (sidelen,)\n",
    "\n",
    "    if dim == 2:\n",
    "        pixel_coords = np.stack(np.mgrid[:sidelen[0], :sidelen[1]], axis=-1)[None, ...].astype(np.float32)\n",
    "        pixel_coords[0, :, :, 0] = pixel_coords[0, :, :, 0] / (sidelen[0] - 1)\n",
    "        pixel_coords[0, :, :, 1] = pixel_coords[0, :, :, 1] / (sidelen[1] - 1)\n",
    "    elif dim == 3:\n",
    "        pixel_coords = np.stack(np.mgrid[:sidelen[0], :sidelen[1], :sidelen[2]], axis=-1)[None, ...].astype(np.float32)\n",
    "        pixel_coords[..., 0] = pixel_coords[..., 0] / max(sidelen[0] - 1, 1)\n",
    "        pixel_coords[..., 1] = pixel_coords[..., 1] / (sidelen[1] - 1)\n",
    "        pixel_coords[..., 2] = pixel_coords[..., 2] / (sidelen[2] - 1)\n",
    "    else:\n",
    "        raise NotImplementedError('Not implemented for dim=%d' % dim)\n",
    "\n",
    "    pixel_coords -= 0.5\n",
    "    pixel_coords *= 2.\n",
    "    pixel_coords = torch.Tensor(pixel_coords).view(-1, dim)\n",
    "    return pixel_coords"
   ]
  },
  {
   "cell_type": "code",
   "execution_count": 9,
   "metadata": {},
   "outputs": [
    {
     "data": {
      "text/plain": [
       "(250, 272, 640)"
      ]
     },
     "execution_count": 9,
     "metadata": {},
     "output_type": "execute_result"
    }
   ],
   "source": [
    "vid_dataset.shape"
   ]
  },
  {
   "cell_type": "code",
   "execution_count": 14,
   "metadata": {},
   "outputs": [
    {
     "data": {
      "text/plain": [
       "torch.Size([43520000, 3])"
      ]
     },
     "execution_count": 14,
     "metadata": {},
     "output_type": "execute_result"
    }
   ],
   "source": [
    "get_mgrid(vid_dataset.shape, dim=3).shape"
   ]
  },
  {
   "cell_type": "code",
   "execution_count": 8,
   "metadata": {},
   "outputs": [
    {
     "data": {
      "text/plain": [
       "17000000"
      ]
     },
     "execution_count": 8,
     "metadata": {},
     "output_type": "execute_result"
    }
   ],
   "source": [
    "68000 "
   ]
  },
  {
   "cell_type": "code",
   "execution_count": 10,
   "metadata": {},
   "outputs": [
    {
     "data": {
      "text/plain": [
       "43520000"
      ]
     },
     "execution_count": 10,
     "metadata": {},
     "output_type": "execute_result"
    }
   ],
   "source": [
    "640 * 272 * 250"
   ]
  },
  {
   "cell_type": "code",
   "execution_count": 18,
   "metadata": {},
   "outputs": [
    {
     "data": {
      "text/plain": [
       "array([[[[0, 0, 0, 0, 0, 0],\n",
       "         [0, 0, 0, 0, 0, 0],\n",
       "         [0, 0, 0, 0, 0, 0],\n",
       "         [0, 0, 0, 0, 0, 0],\n",
       "         [0, 0, 0, 0, 0, 0]],\n",
       "\n",
       "        [[1, 1, 1, 1, 1, 1],\n",
       "         [1, 1, 1, 1, 1, 1],\n",
       "         [1, 1, 1, 1, 1, 1],\n",
       "         [1, 1, 1, 1, 1, 1],\n",
       "         [1, 1, 1, 1, 1, 1]],\n",
       "\n",
       "        [[2, 2, 2, 2, 2, 2],\n",
       "         [2, 2, 2, 2, 2, 2],\n",
       "         [2, 2, 2, 2, 2, 2],\n",
       "         [2, 2, 2, 2, 2, 2],\n",
       "         [2, 2, 2, 2, 2, 2]]],\n",
       "\n",
       "\n",
       "       [[[0, 0, 0, 0, 0, 0],\n",
       "         [1, 1, 1, 1, 1, 1],\n",
       "         [2, 2, 2, 2, 2, 2],\n",
       "         [3, 3, 3, 3, 3, 3],\n",
       "         [4, 4, 4, 4, 4, 4]],\n",
       "\n",
       "        [[0, 0, 0, 0, 0, 0],\n",
       "         [1, 1, 1, 1, 1, 1],\n",
       "         [2, 2, 2, 2, 2, 2],\n",
       "         [3, 3, 3, 3, 3, 3],\n",
       "         [4, 4, 4, 4, 4, 4]],\n",
       "\n",
       "        [[0, 0, 0, 0, 0, 0],\n",
       "         [1, 1, 1, 1, 1, 1],\n",
       "         [2, 2, 2, 2, 2, 2],\n",
       "         [3, 3, 3, 3, 3, 3],\n",
       "         [4, 4, 4, 4, 4, 4]]],\n",
       "\n",
       "\n",
       "       [[[0, 1, 2, 3, 4, 5],\n",
       "         [0, 1, 2, 3, 4, 5],\n",
       "         [0, 1, 2, 3, 4, 5],\n",
       "         [0, 1, 2, 3, 4, 5],\n",
       "         [0, 1, 2, 3, 4, 5]],\n",
       "\n",
       "        [[0, 1, 2, 3, 4, 5],\n",
       "         [0, 1, 2, 3, 4, 5],\n",
       "         [0, 1, 2, 3, 4, 5],\n",
       "         [0, 1, 2, 3, 4, 5],\n",
       "         [0, 1, 2, 3, 4, 5]],\n",
       "\n",
       "        [[0, 1, 2, 3, 4, 5],\n",
       "         [0, 1, 2, 3, 4, 5],\n",
       "         [0, 1, 2, 3, 4, 5],\n",
       "         [0, 1, 2, 3, 4, 5],\n",
       "         [0, 1, 2, 3, 4, 5]]]])"
      ]
     },
     "execution_count": 18,
     "metadata": {},
     "output_type": "execute_result"
    }
   ],
   "source": [
    "np.mgrid[:3,:5,:6]"
   ]
  },
  {
   "cell_type": "code",
   "execution_count": null,
   "metadata": {},
   "outputs": [],
   "source": []
  }
 ],
 "metadata": {
  "kernelspec": {
   "display_name": "mae",
   "language": "python",
   "name": "python3"
  },
  "language_info": {
   "codemirror_mode": {
    "name": "ipython",
    "version": 3
   },
   "file_extension": ".py",
   "mimetype": "text/x-python",
   "name": "python",
   "nbconvert_exporter": "python",
   "pygments_lexer": "ipython3",
   "version": "3.9.19"
  }
 },
 "nbformat": 4,
 "nbformat_minor": 2
}
