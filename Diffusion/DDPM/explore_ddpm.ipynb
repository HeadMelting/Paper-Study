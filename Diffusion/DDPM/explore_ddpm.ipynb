{
 "cells": [
  {
   "cell_type": "markdown",
   "metadata": {},
   "source": [
    "# [Denoising Diffusion Probabilistic Models(DDPM)](https://nn.labml.ai/diffusion/ddpm/index.html)\n",
    "\n",
    "This is a PyTorch Implementation of the paper Denosing Diffusion Probabilistic Models.\n",
    "\n",
    "### Forward Process\n",
    "The forward process adds noise to the data $x_0 \\sim q(x_0)$, for T timesteps\n",
    "\n",
    "$$ q(x_t|x_{t-1}) = N(x_t; \\sqrt{1 - \\beta_t} x_{t-1}, \\beta_t I)"
   ]
  },
  {
   "cell_type": "code",
   "execution_count": null,
   "metadata": {},
   "outputs": [],
   "source": [
    "class DenoiseDiffusion:\n",
    "    def __init__(self, eps_model, n_steps, device):\n",
    "        super().__init__()\n",
    "        self.eps_model = eps_model\n",
    "        self.beta = torch.linspace(0.0001, 0.02, n_steps).to(device)\n",
    "        self.alpha = 1. - self.beta\n",
    "        self.alpha_bar = torch.cumprod(self.alpha, dim=0)\n",
    "        self.n_steps = n_steps\n",
    "        self.sigma2 = self.beta\n",
    "    \n",
    "    def q_xt_x0(self, x0, t):\n",
    "        mean = gather(self.alpha_bar, t) ** 0.5 * x0\n",
    "        var = 1 - gather(self.alpha_bar, t)\n",
    "        return mean, var\n",
    "    \n",
    "    def q_sample(self, x0, t, eps):\n",
    "        if eps is None:\n",
    "            eps = torch.randn_like(x0)\n",
    "        \n",
    "        mean, var = self.q_xt_x0(x0, t)\n",
    "        return mean + (var ** 0.5) * eps\n",
    "    \n",
    "    def p_sample(self, xt, t):\n",
    "        eps_theta = self.eps_model(xt, t)\n",
    "        alpha_bar = gather(self.alpha_bar, t)\n",
    "        alpha = gather(self.alpha, t)\n",
    "        eps_coef = (1 - alpha) / (1 - alpha_bar) ** .5\n",
    "        mean = 1 / (alpha)\n",
    "        "
   ]
  },
  {
   "cell_type": "markdown",
   "metadata": {},
   "source": []
  }
 ],
 "metadata": {
  "kernelspec": {
   "display_name": "siren",
   "language": "python",
   "name": "python3"
  },
  "language_info": {
   "name": "python",
   "version": "3.9.18"
  }
 },
 "nbformat": 4,
 "nbformat_minor": 2
}
